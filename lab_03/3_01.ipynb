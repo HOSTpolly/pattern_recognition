{
 "cells": [
  {
   "cell_type": "code",
   "execution_count": 1,
   "metadata": {},
   "outputs": [],
   "source": [
    "import random\n",
    "# bar-decode\n",
    "from pyzbar.pyzbar import decode\n",
    "from PIL import Image\n",
    "# barcode\n",
    "import barcode\n",
    "from barcode import EAN13\n",
    "from barcode.writer import ImageWriter\n",
    "# qr-code\n",
    "import qrcode\n",
    "#qr-decode\n",
    "import cv2  "
   ]
  },
  {
   "cell_type": "code",
   "execution_count": null,
   "metadata": {},
   "outputs": [
    {
     "name": "stdout",
     "output_type": "stream",
     "text": [
      "4820038493942\n"
     ]
    }
   ],
   "source": [
    "img_barcode=Image.open(\"barcodeImage.png\")\n",
    "decoded=decode(img_barcode)\n",
    "print(decoded[0].data.decode(\"UTF-8\"))"
   ]
  },
  {
   "cell_type": "code",
   "execution_count": null,
   "metadata": {},
   "outputs": [
    {
     "name": "stdout",
     "output_type": "stream",
     "text": [
      "0054881001410\n"
     ]
    }
   ],
   "source": [
    "img_barcode=Image.open(\"bcimg2.jpg\")\n",
    "decoded=decode(img_barcode)\n",
    "print(decoded[0].data.decode(\"UTF-8\"))"
   ]
  },
  {
   "cell_type": "code",
   "execution_count": 2,
   "metadata": {},
   "outputs": [],
   "source": [
    "# svg-form\n",
    "ean=barcode.get('ean13','4825673869046')\n",
    "filename=ean.save(\"ean13\")"
   ]
  },
  {
   "cell_type": "code",
   "execution_count": 3,
   "metadata": {},
   "outputs": [],
   "source": [
    "# zip-form\n",
    "ean=barcode.get('ean13','4825673869046')\n",
    "options=dict(compress=True)\n",
    "filename=ean.save(\"ean13\", options)"
   ]
  },
  {
   "cell_type": "code",
   "execution_count": 4,
   "metadata": {},
   "outputs": [],
   "source": [
    "# png-form\n",
    "ean=barcode.get('ean13','4825673869046',writer=ImageWriter())\n",
    "filename=ean.save('ean13')"
   ]
  },
  {
   "cell_type": "code",
   "execution_count": 6,
   "metadata": {},
   "outputs": [
    {
     "name": "stdout",
     "output_type": "stream",
     "text": [
      "4825659141692\n"
     ]
    }
   ],
   "source": [
    "random_numbers = [random.randint(0, 9) for _ in range(13)]\n",
    "random_numbers[:3] = [4, 8, 2]\n",
    "random_numbers[-1] = 2\n",
    "rn_str = ''.join(map(str, random_numbers))\n",
    "\n",
    "ean=EAN13(rn_str,writer=ImageWriter())\n",
    "filename=ean.save('barcode_1')\n",
    "\n",
    "print(rn_str)"
   ]
  },
  {
   "cell_type": "code",
   "execution_count": 176,
   "metadata": {},
   "outputs": [
    {
     "name": "stdout",
     "output_type": "stream",
     "text": [
      "4825245714178\n"
     ]
    }
   ],
   "source": [
    "random_numbers = [random.randint(0, 9) for _ in range(13)]\n",
    "random_numbers[:3] = [4, 8, 2]\n",
    "random_numbers[-2] = 7\n",
    "rn_str = ''.join(map(str, random_numbers))\n",
    "\n",
    "ean=EAN13(rn_str,writer=ImageWriter())\n",
    "filename=ean.save('barcode_2')\n",
    "\n",
    "print(rn_str)"
   ]
  },
  {
   "cell_type": "code",
   "execution_count": 177,
   "metadata": {},
   "outputs": [
    {
     "name": "stdout",
     "output_type": "stream",
     "text": [
      "4822854485751\n"
     ]
    }
   ],
   "source": [
    "random_numbers = [random.randint(0, 9) for _ in range(13)]\n",
    "random_numbers[:3] = [4, 8, 2]\n",
    "random_numbers[-2] = 5\n",
    "rn_str = ''.join(map(str, random_numbers))\n",
    "\n",
    "ean=EAN13(rn_str,writer=ImageWriter())\n",
    "filename=ean.save('barcode_3')\n",
    "\n",
    "print(rn_str)"
   ]
  },
  {
   "cell_type": "code",
   "execution_count": 8,
   "metadata": {},
   "outputs": [],
   "source": [
    "qr=qrcode.QRCode(\n",
    "    version=2,\n",
    "    error_correction=qrcode.constants.ERROR_CORRECT_L,\n",
    "    box_size=10,\n",
    "    border=4,\n",
    ")\n",
    "\n",
    "qr.add_data('https://pypi.org/')\n",
    "qr.make(fit=True)\n",
    "\n",
    "img=qr.make_image(fill_color=\"black\", back_color=\"white\")\n",
    "img.save(\"qrcode4.jpg\")"
   ]
  },
  {
   "cell_type": "code",
   "execution_count": 9,
   "metadata": {},
   "outputs": [],
   "source": [
    "qr=qrcode.QRCode(\n",
    "    version=2,\n",
    "    error_correction=qrcode.constants.ERROR_CORRECT_L,\n",
    "    box_size=10,\n",
    "    border=4,\n",
    ")\n",
    "\n",
    "qr.add_data('https://github.com/jfjlaros/barcode/tree/master/barcode')\n",
    "qr.make(fit=True)\n",
    "\n",
    "img=qr.make_image(fill_color=\"black\", back_color=\"white\")\n",
    "img.save(\"qrcode5.jpg\")"
   ]
  },
  {
   "cell_type": "code",
   "execution_count": 10,
   "metadata": {},
   "outputs": [
    {
     "name": "stdout",
     "output_type": "stream",
     "text": [
      "QR Code Data: https://pypi.org/\n",
      "Bounding Box: [[[ 40.       40.     ]\n",
      "  [288.99997  40.     ]\n",
      "  [288.99997 288.99997]\n",
      "  [ 40.      288.99997]]]\n"
     ]
    }
   ],
   "source": [
    "img_qrcode = cv2.imread(\"qrcode4.jpg\")\n",
    "detector = cv2.QRCodeDetector()\n",
    "data, bbox, clear_qrcode = detector.detectAndDecode(img_qrcode)\n",
    "\n",
    "if data:\n",
    "    print(\"QR Code Data:\", data)\n",
    "\n",
    "    if clear_qrcode is not None:\n",
    "        print(\"Bounding Box:\", bbox)\n",
    "\n",
    "        # Display the image with the detected QR code\n",
    "        cv2.imshow(\"QR Code\", clear_qrcode)\n",
    "\n",
    "        # Wait for a key press and then close the window\n",
    "        cv2.waitKey(0)\n",
    "        cv2.destroyAllWindows()\n",
    "    else:\n",
    "        print(\"QR Code detected, but the image could not be displayed.\")\n",
    "else:\n",
    "    print(\"No QR Code detected.\")"
   ]
  },
  {
   "cell_type": "code",
   "execution_count": 12,
   "metadata": {},
   "outputs": [
    {
     "name": "stdout",
     "output_type": "stream",
     "text": [
      "QR Code Data: https://github.com/jfjlaros/barcode/tree/master/barcode\n",
      "Bounding Box: [[[ 40.  40.]\n",
      "  [369.  40.]\n",
      "  [369. 369.]\n",
      "  [ 40. 369.]]]\n"
     ]
    }
   ],
   "source": [
    "img_qrcode = cv2.imread(\"qrcode5.jpg\")\n",
    "detector = cv2.QRCodeDetector()\n",
    "data, bbox, clear_qrcode = detector.detectAndDecode(img_qrcode)\n",
    "\n",
    "if data:\n",
    "    print(\"QR Code Data:\", data)\n",
    "\n",
    "    if clear_qrcode is not None:\n",
    "        print(\"Bounding Box:\", bbox)\n",
    "\n",
    "        # Display the image with the detected QR code\n",
    "        cv2.imshow(\"QR Code\", clear_qrcode)\n",
    "\n",
    "        # Wait for a key press and then close the window\n",
    "        cv2.waitKey(0)\n",
    "        cv2.destroyAllWindows()\n",
    "    else:\n",
    "        print(\"QR Code detected, but the image could not be displayed.\")\n",
    "else:\n",
    "    print(\"No QR Code detected.\")"
   ]
  },
  {
   "cell_type": "code",
   "execution_count": 13,
   "metadata": {},
   "outputs": [
    {
     "name": "stdout",
     "output_type": "stream",
     "text": [
      "QR Code Data: monobank.ua/marieclaire\n"
     ]
    }
   ],
   "source": [
    "img_qrcode = Image.open(\"mono.jpg\")\n",
    "detector = decode(img_qrcode)\n",
    "print(\"QR Code Data:\", detector[0].data.decode(\"UTF-8\"))\n",
    "\n",
    "  "
   ]
  },
  {
   "cell_type": "code",
   "execution_count": 190,
   "metadata": {},
   "outputs": [
    {
     "name": "stdout",
     "output_type": "stream",
     "text": [
      "QR Code Data: https://shaketopay.monobank.ua/\n"
     ]
    }
   ],
   "source": [
    "img_qrcode = Image.open(\"mono-qr.jpg\")\n",
    "detector = decode(img_qrcode)\n",
    "print(\"QR Code Data:\", detector[0].data.decode(\"UTF-8\"))"
   ]
  }
 ],
 "metadata": {
  "kernelspec": {
   "display_name": "Python 3",
   "language": "python",
   "name": "python3"
  },
  "language_info": {
   "codemirror_mode": {
    "name": "ipython",
    "version": 3
   },
   "file_extension": ".py",
   "mimetype": "text/x-python",
   "name": "python",
   "nbconvert_exporter": "python",
   "pygments_lexer": "ipython3",
   "version": "3.11.4"
  }
 },
 "nbformat": 4,
 "nbformat_minor": 2
}
